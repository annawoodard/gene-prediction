{
 "cells": [
  {
   "cell_type": "code",
   "execution_count": 1,
   "metadata": {},
   "outputs": [],
   "source": [
    "%matplotlib inline"
   ]
  },
  {
   "cell_type": "code",
   "execution_count": 2,
   "metadata": {},
   "outputs": [],
   "source": [
    "import os\n",
    "import pandas as pd\n",
    "import h5py\n",
    "import urllib.request\n",
    "import numpy as np\n",
    "import seaborn as sns\n",
    "import tqdm\n",
    "import matplotlib.pyplot as plt\n",
    "\n",
    "import parsl"
   ]
  },
  {
   "cell_type": "code",
   "execution_count": 3,
   "metadata": {},
   "outputs": [
    {
     "data": {
      "text/plain": [
       "<parsl.dataflow.dflow.DataFlowKernel at 0x2aab3581f6a0>"
      ]
     },
     "execution_count": 3,
     "metadata": {},
     "output_type": "execute_result"
    }
   ],
   "source": [
    "from aspire import config\n",
    "parsl.load(config)"
   ]
  },
  {
   "cell_type": "code",
   "execution_count": 4,
   "metadata": {},
   "outputs": [],
   "source": [
    "num_samples = 10000\n",
    "chunk_size = 5\n",
    "store = 'store.h5'"
   ]
  },
  {
   "cell_type": "code",
   "execution_count": 8,
   "metadata": {},
   "outputs": [],
   "source": [
    "def quantile_normalize(df):\n",
    "    \"\"\"\n",
    "    see https://stackoverflow.com/questions/37935920/quantile-normalization-on-pandas-dataframe\n",
    "    \"\"\"\n",
    "    \n",
    "    rank_mean = df.stack().groupby(df.rank(method='first').stack().astype(int)).mean()\n",
    "    \n",
    "    return df.rank(method='min').stack().astype(int).map(rank_mean).unstack()"
   ]
  },
  {
   "cell_type": "markdown",
   "metadata": {},
   "source": [
    "**Download expression data from archs4**\n",
    "\n",
    "For more info: https://amp.pharm.mssm.edu/archs4/help.html"
   ]
  },
  {
   "cell_type": "code",
   "execution_count": 9,
   "metadata": {},
   "outputs": [],
   "source": [
    "url = \"https://s3.amazonaws.com/mssm-seq-matrix/human_matrix.h5\"\n",
    "if not os.path.isfile(os.path.basename(url)):\n",
    "    urllib.request.urlretrieve(url, os.path.basename(url))"
   ]
  },
  {
   "cell_type": "code",
   "execution_count": 10,
   "metadata": {},
   "outputs": [],
   "source": [
    "file = h5py.File('human_matrix.h5', 'r')"
   ]
  },
  {
   "cell_type": "code",
   "execution_count": 45,
   "metadata": {},
   "outputs": [],
   "source": [
    "samples = file['meta']['Sample_geo_accession']\n",
    "tissue = file['meta']['Sample_source_name_ch1']\n",
    "genes = list(x.decode() for x in file['meta']['genes'])\n",
    "# Data has sample rows and gene columns\n",
    "# We need to pick `num_samples` rows-- preferably without loading the entire dataset into memory.\n",
    "# I'm having trouble getting h5py to accept a random sample of indices (even sorted)-- for now, just\n",
    "# pick every n'th row (not random, but fast)\n",
    "data = pd.DataFrame(file['data']['expression'][::int(len(samples) / num_samples),:], columns=genes)"
   ]
  },
  {
   "cell_type": "code",
   "execution_count": 46,
   "metadata": {},
   "outputs": [],
   "source": [
    "library = {}\n",
    "with open('libraries/KEGG_2015.txt') as f:\n",
    "    for line in f:\n",
    "        parts = line.strip().split('\\t')\n",
    "        library[parts[0]] = [x.strip() for x in parts[2:]]"
   ]
  },
  {
   "cell_type": "code",
   "execution_count": 47,
   "metadata": {},
   "outputs": [],
   "source": [
    "# Only examine genes that appear in at least one gene set\n",
    "# Otherwise, the ROC is undefined\n",
    "genes = list(set(sum(library.values(), [])).intersection(genes))"
   ]
  },
  {
   "cell_type": "code",
   "execution_count": 48,
   "metadata": {},
   "outputs": [],
   "source": [
    "# Put the quantile-normalized data in an HDF5 store, so that concurrent processes can read from it\n",
    "quantile_normalize(data[genes]).to_hdf(store, key='normalized_data', mode='w')"
   ]
  },
  {
   "cell_type": "code",
   "execution_count": 49,
   "metadata": {},
   "outputs": [],
   "source": [
    "@parsl.python_app\n",
    "def calculate_auc(gene_chunk, genes, library, store):\n",
    "    import pandas as pd\n",
    "    import sklearn.metrics\n",
    "    import h5py\n",
    "    \n",
    "    normalized_data = pd.read_hdf(store, 'normalized_data')\n",
    "    G = pd.DataFrame(index=gene_chunk, columns=library.keys())\n",
    "    GM = pd.DataFrame(index=gene_chunk, columns=library.keys())\n",
    "    result = []\n",
    "    for gene in gene_chunk:\n",
    "        for gene_set in library:\n",
    "            intersection = set(library[gene_set] + [gene]).intersection(genes)\n",
    "            correlation = normalized_data[intersection].corr().loc[gene]\n",
    "            GM.loc[gene, gene_set] = correlation[correlation.index != gene].mean()\n",
    "            G.loc[gene, gene_set] = 1 if gene in library[gene_set] else 0\n",
    "            \n",
    "        true = G.loc[gene].values.astype(int)\n",
    "        score = GM.loc[gene].values.astype(float)\n",
    "        result += [sklearn.metrics.roc_auc_score(true, score)]\n",
    "    \n",
    "    return result"
   ]
  },
  {
   "cell_type": "code",
   "execution_count": 50,
   "metadata": {},
   "outputs": [
    {
     "data": {
      "application/vnd.jupyter.widget-view+json": {
       "model_id": "f3edd3ae8ad74c91aaa61e7a56140e72",
       "version_major": 2,
       "version_minor": 0
      },
      "text/plain": [
       "HBox(children=(IntProgress(value=0, max=753), HTML(value='')))"
      ]
     },
     "metadata": {},
     "output_type": "display_data"
    },
    {
     "name": "stdout",
     "output_type": "stream",
     "text": [
      "\n"
     ]
    }
   ],
   "source": [
    "futures = []\n",
    "chunks = [genes[x:x + chunk_size] for x in range(0, len(genes), chunk_size)]\n",
    "for gene_chunk in tqdm.tqdm_notebook(chunks):\n",
    "    futures += [calculate_auc(gene_chunk, genes, library, os.path.abspath(store))]"
   ]
  },
  {
   "cell_type": "code",
   "execution_count": 59,
   "metadata": {},
   "outputs": [],
   "source": [
    "aucs = lambda: sum([f.result() for f in futures if f.done()], [])"
   ]
  },
  {
   "cell_type": "code",
   "execution_count": 63,
   "metadata": {},
   "outputs": [
    {
     "data": {
      "image/png": "[encoded data removed]",
      "text/plain": [
       "<Figure size 432x288 with 1 Axes>"
      ]
     },
     "metadata": {
      "needs_background": "light"
     },
     "output_type": "display_data"
    }
   ],
   "source": [
    "ax = sns.violinplot(x=aucs(), orient='v', width=0.6)\n",
    "ax.set_ylabel('AUC')\n",
    "ax.set_aspect(0.8)"
   ]
  },
  {
   "cell_type": "code",
   "execution_count": 74,
   "metadata": {},
   "outputs": [
    {
     "name": "stdout",
     "output_type": "stream",
     "text": [
      "810 genes processed, median AUC: 0.787\n"
     ]
    }
   ],
   "source": [
    "print('{} genes processed, median AUC: {:.3f}'.format(len(aucs()), np.median(aucs())))"
   ]
  },
  {
   "cell_type": "code",
   "execution_count": null,
   "metadata": {},
   "outputs": [],
   "source": [
    "import time\n",
    "for i in range(100):\n",
    "    time.sleep(10)\n",
    "    print('{} genes processed, median AUC: {:.3f}'.format(len(aucs()), np.median(aucs())))"
   ]
  },
  {
   "cell_type": "code",
   "execution_count": null,
   "metadata": {},
   "outputs": [],
   "source": [
    "fig = ax.get_figure()\n",
    "fig.savefig('auc.pdf')"
   ]
  }
 ],
 "metadata": {
  "kernelspec": {
   "display_name": "Python 3",
   "language": "python",
   "name": "python3"
  }
 },
 "nbformat": 4,
 "nbformat_minor": 2
}
