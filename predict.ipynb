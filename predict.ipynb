{
 "cells": [
  {
   "cell_type": "code",
   "execution_count": 1,
   "metadata": {},
   "outputs": [],
   "source": [
    "%matplotlib inline"
   ]
  },
  {
   "cell_type": "code",
   "execution_count": 88,
   "metadata": {},
   "outputs": [],
   "source": [
    "import os\n",
    "import pandas as pd\n",
    "import h5py\n",
    "import urllib.request\n",
    "import numpy as np\n",
    "import sklearn.metrics\n",
    "import seaborn as sns\n",
    "import tqdm\n",
    "import matplotlib.pyplot as plt\n",
    "\n",
    "import parsl"
   ]
  },
  {
   "cell_type": "code",
   "execution_count": 80,
   "metadata": {},
   "outputs": [],
   "source": [
    "from aspire import config\n",
    "parsl.load(config)"
   ]
  },
  {
   "cell_type": "code",
   "execution_count": 4,
   "metadata": {},
   "outputs": [],
   "source": [
    "num_samples = 1000\n",
    "chunk_size = 1"
   ]
  },
  {
   "cell_type": "code",
   "execution_count": 5,
   "metadata": {},
   "outputs": [],
   "source": [
    "def quantile_normalize(df):\n",
    "    \"\"\"\n",
    "    see https://stackoverflow.com/questions/37935920/quantile-normalization-on-pandas-dataframe\n",
    "    \"\"\"\n",
    "    \n",
    "    rank_mean = df.stack().groupby(df.rank(method='first').stack().astype(int)).mean()\n",
    "    \n",
    "    return df.rank(method='min').stack().astype(int).map(rank_mean).unstack()"
   ]
  },
  {
   "cell_type": "markdown",
   "metadata": {},
   "source": [
    "**Download expression data from archs4**\n",
    "\n",
    "For more info: https://amp.pharm.mssm.edu/archs4/help.html"
   ]
  },
  {
   "cell_type": "code",
   "execution_count": 6,
   "metadata": {},
   "outputs": [],
   "source": [
    "url = \"https://s3.amazonaws.com/mssm-seq-matrix/human_matrix.h5\"\n",
    "if not os.path.isfile(os.path.basename(url)):\n",
    "    urllib.request.urlretrieve(url, os.path.basename(url))"
   ]
  },
  {
   "cell_type": "code",
   "execution_count": 7,
   "metadata": {},
   "outputs": [],
   "source": [
    "file = h5py.File('human_matrix.h5', 'r')"
   ]
  },
  {
   "cell_type": "code",
   "execution_count": 8,
   "metadata": {},
   "outputs": [],
   "source": [
    "samples = file['meta']['Sample_geo_accession']\n",
    "tissue = file['meta']['Sample_source_name_ch1']\n",
    "genes = list(x.decode() for x in file['meta']['genes'])\n",
    "data = pd.DataFrame(file['data']['expression'][:num_samples], columns=genes) # data has sample rows and gene columns"
   ]
  },
  {
   "cell_type": "code",
   "execution_count": 9,
   "metadata": {},
   "outputs": [],
   "source": [
    "library = {}\n",
    "with open('libraries/KEGG_2015.txt') as f:\n",
    "    for line in f:\n",
    "        parts = line.strip().split('\\t')\n",
    "        library[parts[0]] = [x.strip() for x in parts[2:]]"
   ]
  },
  {
   "cell_type": "code",
   "execution_count": 10,
   "metadata": {},
   "outputs": [],
   "source": [
    "# if a gene does not appear in any gene set, the ROC is undefined\n",
    "# i'm not sure if we should be using sklearn.metrics.roc_auc_score or sklearn.metrics.auc\n",
    "genes = list(set(sum(library.values(), [])).intersection(genes))"
   ]
  },
  {
   "cell_type": "code",
   "execution_count": 11,
   "metadata": {},
   "outputs": [],
   "source": [
    "normalized_data = quantile_normalize(data[genes])"
   ]
  },
  {
   "cell_type": "code",
   "execution_count": 37,
   "metadata": {},
   "outputs": [],
   "source": [
    "@parsl.python_app\n",
    "def calculate_auc(gene, genes, library, normalized_data):\n",
    "    import pandas as pd\n",
    "    import sklearn.metrics\n",
    "    \n",
    "    G = pd.DataFrame(index=[gene], columns=library.keys())\n",
    "    GM = pd.DataFrame(index=[gene], columns=library.keys())\n",
    "    for gene_set in library:\n",
    "        intersection = set(library[gene_set] + [gene]).intersection(genes)\n",
    "        correlation = normalized_data[intersection].corr().loc[gene]\n",
    "        GM.loc[gene, gene_set] = correlation[correlation.index != gene].mean()\n",
    "        G.loc[gene, gene_set] = 1 if gene in library[gene_set] else 0\n",
    "    \n",
    "    return sklearn.metrics.roc_auc_score(G.loc[gene].values.astype(int), GM.loc[gene].values.astype(float))"
   ]
  },
  {
   "cell_type": "code",
   "execution_count": 81,
   "metadata": {},
   "outputs": [],
   "source": [
    "auc = []\n",
    "for gene in tqdm.tqdm_notebook(genes):\n",
    "    auc += [calculate_auc(gene, genes, library, normalized_data)]    "
   ]
  },
  {
   "cell_type": "code",
   "execution_count": 79,
   "metadata": {},
   "outputs": [
    {
     "data": {
      "image/png": "[encoded data removed]",
      "text/plain": [
       "<Figure size 432x288 with 1 Axes>"
      ]
     },
     "metadata": {
      "needs_background": "light"
     },
     "output_type": "display_data"
    }
   ],
   "source": [
    "ax = sns.violinplot(x=[i.result() for i in auc], orient='v', width=0.6)\n",
    "ax.set_ylabel('AUC')\n",
    "ax.set_aspect(0.8)"
   ]
  },
  {
   "cell_type": "code",
   "execution_count": 93,
   "metadata": {},
   "outputs": [
    {
     "name": "stdout",
     "output_type": "stream",
     "text": [
      "median AUC: 0.697\n"
     ]
    }
   ],
   "source": [
    "print('median AUC: {:.3f}'.format(np.median([i.result() for i in auc])))"
   ]
  },
  {
   "cell_type": "code",
   "execution_count": 91,
   "metadata": {},
   "outputs": [],
   "source": [
    "fig = ax.get_figure()\n",
    "fig.savefig('auc.pdf')"
   ]
  },
  {
   "cell_type": "code",
   "execution_count": null,
   "metadata": {},
   "outputs": [],
   "source": []
  }
 ],
 "metadata": {
  "kernelspec": {
   "display_name": "Python 3",
   "language": "python",
   "name": "python3"
  },
  "language_info": {
   "codemirror_mode": {
    "name": "ipython",
    "version": 3
   },
   "file_extension": ".py",
   "mimetype": "text/x-python",
   "name": "python",
   "nbconvert_exporter": "python",
   "pygments_lexer": "ipython3",
   "version": "3.7.0"
  }
 },
 "nbformat": 4,
 "nbformat_minor": 2
}
